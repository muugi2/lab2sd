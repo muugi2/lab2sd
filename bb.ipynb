{
  "nbformat": 4,
  "nbformat_minor": 0,
  "metadata": {
    "colab": {
      "provenance": [],
      "authorship_tag": "ABX9TyMqwWM3xynUW7w9Fh6ORtwi",
      "include_colab_link": true
    },
    "kernelspec": {
      "name": "python3",
      "display_name": "Python 3"
    },
    "language_info": {
      "name": "python"
    }
  },
  "cells": [
    {
      "cell_type": "markdown",
      "metadata": {
        "id": "view-in-github",
        "colab_type": "text"
      },
      "source": [
        "<a href=\"https://colab.research.google.com/github/muugi2/lab2sd/blob/master/bb.ipynb\" target=\"_parent\"><img src=\"https://colab.research.google.com/assets/colab-badge.svg\" alt=\"Open In Colab\"/></a>"
      ]
    },
    {
      "cell_type": "code",
      "execution_count": 1,
      "metadata": {
        "colab": {
          "base_uri": "https://localhost:8080/"
        },
        "id": "4k6L2zbOrdZl",
        "outputId": "f27e5c9c-c6ba-418e-f2e2-21b43f21b2e1"
      },
      "outputs": [
        {
          "output_type": "stream",
          "name": "stdout",
          "text": [
            "Writing c.cpp\n"
          ]
        }
      ],
      "source": [
        "%%writefile c.cpp\n",
        "#include <stdio.h>\n",
        "#include <iostream>\n",
        "#include <string>\n",
        "\n",
        "using namespace std;\n",
        "\n",
        "bool isNumberString(const string& s) {\n",
        "    int len = s.length();\n",
        "    for (int i = 0; i < len; i++) {\n",
        "        if (s[i] < '0' || s[i] > '9')\n",
        "            return false;\n",
        "    }\n",
        "    return true;\n",
        "}\n",
        "\n",
        "int main() {\n",
        "    string ccNumber;\n",
        "\n",
        "    cout << \"This program uses the Luhn Algorigthm to validate a CC number.\" << endl;\n",
        "    cout << \"You can enter 'exit' anytime to quit.\" << endl;\n",
        "\n",
        "    while (true) {\n",
        "\n",
        "        cout << \"Please enter a CC number to validate: \";\n",
        "        cin >> ccNumber;\n",
        "\n",
        "        if (ccNumber == \"exit\")\n",
        "            break;\n",
        "\n",
        "        else if (!isNumberString(ccNumber)) {\n",
        "            cout << \"Bad input! \";\n",
        "            continue;\n",
        "        }\n",
        "\n",
        "        int len = ccNumber.length();\n",
        "        int doubleEvenSum = 0;\n",
        "\n",
        "        // Step 1 is to double every second digit, starting from the right. If it\n",
        "        // results in a two digit number, add both the digits to obtain a single\n",
        "        // digit number. Finally, sum all the answers to obtain 'doubleEvenSum'.\n",
        "\n",
        "        for (int i = len - 2; i >= 0; i = i - 2) {\n",
        "            int dbl = ((ccNumber[i] - 48) * 2);\n",
        "            if (dbl > 9) {\n",
        "                dbl = (dbl / 10) + (dbl % 10);\n",
        "            }\n",
        "            doubleEvenSum += dbl;\n",
        "        }\n",
        "\n",
        "        // Step 2 is to add every odd placed digit from the right to the value\n",
        "        // 'doubleEvenSum'.\n",
        "\n",
        "        for (int i = len - 1; i >= 0; i = i - 2) {\n",
        "            doubleEvenSum += (ccNumber[i] - 48);\n",
        "        }\n",
        "\n",
        "        // Step 3 is to check if the final 'doubleEvenSum' is a multiple of 10.\n",
        "        // If yes, it is a valid CC number. Otherwise, not.\n",
        "\n",
        "        cout << (doubleEvenSum % 10 == 0 ? \"Valid!\" : \"Invalid!\") << endl;\n",
        "\n",
        "        continue;\n",
        "    }\n",
        "\n",
        "    return 0;\n",
        "}\n"
      ]
    }
  ]
}